{
 "cells": [
  {
   "cell_type": "markdown",
   "id": "409b961b",
   "metadata": {},
   "source": [
    "<b>In this notebook, I explain the different encoding techniques such as one-hot encoding, bag_of_words and with term frequency encoding from sklearn.</b>\n",
    "\n",
    "<b>And to evaluate the accuracy of data which build using one of encoding techniques from above, I am going to use model MultinomialNB which is one of the popular text classification algorithm.</b>\n",
    "\n",
    "<b>And finally test accuracy using accuracy_score metric.</b>"
   ]
  },
  {
   "cell_type": "markdown",
   "id": "4e33f8ef",
   "metadata": {},
   "source": [
    "# Importing Libraries"
   ]
  },
  {
   "cell_type": "markdown",
   "id": "d05257b6",
   "metadata": {},
   "source": [
    "<b>First part is to import all necessary libraries, and then start coding. And import libraries which is needed in program further as I proceed.</b>"
   ]
  },
  {
   "cell_type": "code",
   "execution_count": 1,
   "id": "f5a243f9",
   "metadata": {},
   "outputs": [
    {
     "name": "stdout",
     "output_type": "stream",
     "text": [
      "WARNING:tensorflow:From D:\\AnaConda\\lib\\site-packages\\keras\\src\\losses.py:2976: The name tf.losses.sparse_softmax_cross_entropy is deprecated. Please use tf.compat.v1.losses.sparse_softmax_cross_entropy instead.\n",
      "\n"
     ]
    }
   ],
   "source": [
    "# general data preprocessing libraries\n",
    "import pandas as pd           \n",
    "import numpy as np\n",
    "from tqdm import tqdm\n",
    "\n",
    "# for text preprocessing\n",
    "import spacy\n",
    "from nltk.corpus import stopwords\n",
    "from string import punctuation as punctuations\n",
    "from nltk.tokenize import word_tokenize\n",
    "import re\n",
    "from nltk.stem import PorterStemmer\n",
    "# nltk.download('punkt')\n",
    "\n",
    "# methods i used to build training and testing data\n",
    "from sklearn.preprocessing import OneHotEncoder\n",
    "from sklearn.feature_extraction.text import TfidfVectorizer\n",
    "from sklearn.feature_extraction.text import CountVectorizer\n",
    "\n",
    "# model\n",
    "from sklearn.naive_bayes import MultinomialNB\n",
    "\n",
    "# metrics\n",
    "from sklearn.metrics import accuracy_score\n",
    "\n",
    "# to dump model\n",
    "import pickle\n",
    "\n",
    "stemmer = PorterStemmer()\n",
    "stop_words = stopwords.words('english')\n",
    "nlp = spacy.load('en_core_web_sm')"
   ]
  },
  {
   "cell_type": "markdown",
   "id": "cfc79e1e",
   "metadata": {},
   "source": [
    "# Collecting Dataset"
   ]
  },
  {
   "cell_type": "markdown",
   "id": "51b9abd0",
   "metadata": {},
   "source": [
    "<b>Let's create a dataset after importing libraries ( using pandas ).</b>"
   ]
  },
  {
   "cell_type": "code",
   "execution_count": 2,
   "id": "c46ccfb8",
   "metadata": {},
   "outputs": [],
   "source": [
    "df = pd.read_csv('tweets/training.csv', header=None)\n",
    "df = df.rename(columns={0:'id', 1:'company', 2:'sentiment', 3:'raw_tweet'})\n",
    "df = df[df['sentiment'] != 'Neutral']\n",
    "df = df[df['sentiment'] != 'Irrelevant']\n",
    "df = df.dropna()\n",
    "train_tweets = df['raw_tweet'].values"
   ]
  },
  {
   "cell_type": "code",
   "execution_count": 3,
   "id": "67f68d00",
   "metadata": {},
   "outputs": [],
   "source": [
    "test_df = pd.read_csv('tweets/validation.csv', header=None)\n",
    "test_df = test_df.rename(columns={0:'id', 1:'company', 2:'sentiment', 3:'raw_tweet'})\n",
    "test_df = test_df[test_df['sentiment'] != 'Neutral']\n",
    "test_df = test_df[test_df['sentiment'] != 'Irrelevant']\n",
    "\n",
    "test_tweets = test_df['raw_tweet'].values"
   ]
  },
  {
   "cell_type": "markdown",
   "id": "0f17770b",
   "metadata": {},
   "source": [
    "# Text Preprocessing"
   ]
  },
  {
   "cell_type": "markdown",
   "id": "5126fb85",
   "metadata": {},
   "source": [
    "<b>Now, create a helping functions which preprocessed the text data, using other buil-in functions. Preprocessed text, </b>\n",
    "\n",
    "    - removing punctuations, stopwords\n",
    "    - stemming word to reduce the size of dataset and avoid multiple words which has same meaning, etc."
   ]
  },
  {
   "cell_type": "code",
   "execution_count": 4,
   "id": "dc292728",
   "metadata": {},
   "outputs": [],
   "source": [
    "def text_preprocessing(sentences):\n",
    "    preprocessed_text_data = []\n",
    "    for sentence in tqdm(sentences):\n",
    "        doc = nlp(sentence)\n",
    "\n",
    "        link_free_doc = []\n",
    "        for token in doc:\n",
    "            if not token.like_url:\n",
    "                link_free_doc.append(token)\n",
    "        lowering_docs          = [token.text.lower() for token in link_free_doc]\n",
    "        without_puns_tokens = []\n",
    "        for token in lowering_docs:\n",
    "            words = []\n",
    "            for char in token:\n",
    "                if char not in punctuations:\n",
    "                    words.append(char)\n",
    "            words = ''.join(words)\n",
    "            if len(words) > 2:\n",
    "                without_puns_tokens.append(words)\n",
    "\n",
    "        without_stopwords_tokens = [token for token in without_puns_tokens if token not in stop_words]\n",
    "        stemmer_tokens           = [stemmer.stem(token) for token in without_stopwords_tokens]\n",
    "        \n",
    "        preprocessed_text = ' '.join(stemmer_tokens)\n",
    "        preprocessed_text_data.append(preprocessed_text)\n",
    "    return preprocessed_text_data"
   ]
  },
  {
   "cell_type": "code",
   "execution_count": 5,
   "id": "b4a43d81",
   "metadata": {},
   "outputs": [
    {
     "name": "stderr",
     "output_type": "stream",
     "text": [
      "100%|██████████| 43013/43013 [08:57<00:00, 79.96it/s] \n",
      "100%|██████████| 543/543 [00:06<00:00, 87.11it/s]\n"
     ]
    }
   ],
   "source": [
    "train_preprocessed_tweet = text_preprocessing(train_tweets)\n",
    "test_preprocessed_tweet = text_preprocessing(test_tweets)"
   ]
  },
  {
   "cell_type": "code",
   "execution_count": 6,
   "id": "c9f505e0",
   "metadata": {},
   "outputs": [],
   "source": [
    "def combine_sents(preprocessed_tweet):\n",
    "    sent_data = []\n",
    "    for sent in preprocessed_tweet:\n",
    "        sent_data.append([sent])\n",
    "    return sent_data"
   ]
  },
  {
   "cell_type": "code",
   "execution_count": 7,
   "id": "f8756084",
   "metadata": {},
   "outputs": [],
   "source": [
    "train_tweet = combine_sents(train_preprocessed_tweet)\n",
    "test_tweet = combine_sents(test_preprocessed_tweet)"
   ]
  },
  {
   "cell_type": "markdown",
   "id": "3eea9413",
   "metadata": {},
   "source": [
    "<b>First and simple encoding technique is one_hot encoding. </b>\n",
    "\n",
    "<b>So let's start from it.</b>"
   ]
  },
  {
   "cell_type": "markdown",
   "id": "f5c164dd",
   "metadata": {},
   "source": [
    "# 1 One-Hot Encoding"
   ]
  },
  {
   "cell_type": "code",
   "execution_count": 8,
   "id": "37a58274",
   "metadata": {},
   "outputs": [],
   "source": [
    "encoder = OneHotEncoder(handle_unknown='infrequent_if_exist')\n",
    "\n",
    "encoder.fit(train_tweet) # adapt the data to the encoder\n",
    "\n",
    "one_hot_X_train = encoder.transform(train_tweet)\n",
    "one_hot_X_test = encoder.transform(test_tweet)\n",
    "\n",
    "one_hot_y_train = pd.get_dummies(df['sentiment'], dtype='int').values[:, 1:]\n",
    "one_hot_y_test = pd.get_dummies(test_df['sentiment'], dtype='int').values[:, 1:]"
   ]
  },
  {
   "cell_type": "code",
   "execution_count": 9,
   "id": "6780de10",
   "metadata": {},
   "outputs": [
    {
     "name": "stdout",
     "output_type": "stream",
     "text": [
      "(43013, 34223) (43013, 1)\n",
      "(543, 34223) (543, 1)\n"
     ]
    }
   ],
   "source": [
    "print(one_hot_X_train.shape, one_hot_y_train.shape)\n",
    "print(one_hot_X_test.shape, one_hot_y_test.shape)"
   ]
  },
  {
   "cell_type": "code",
   "execution_count": 10,
   "id": "a4f05af7",
   "metadata": {},
   "outputs": [
    {
     "name": "stderr",
     "output_type": "stream",
     "text": [
      "D:\\AnaConda\\lib\\site-packages\\sklearn\\utils\\validation.py:1184: DataConversionWarning: A column-vector y was passed when a 1d array was expected. Please change the shape of y to (n_samples, ), for example using ravel().\n",
      "  y = column_or_1d(y, warn=True)\n"
     ]
    },
    {
     "data": {
      "text/html": [
       "<style>#sk-container-id-1 {color: black;}#sk-container-id-1 pre{padding: 0;}#sk-container-id-1 div.sk-toggleable {background-color: white;}#sk-container-id-1 label.sk-toggleable__label {cursor: pointer;display: block;width: 100%;margin-bottom: 0;padding: 0.3em;box-sizing: border-box;text-align: center;}#sk-container-id-1 label.sk-toggleable__label-arrow:before {content: \"▸\";float: left;margin-right: 0.25em;color: #696969;}#sk-container-id-1 label.sk-toggleable__label-arrow:hover:before {color: black;}#sk-container-id-1 div.sk-estimator:hover label.sk-toggleable__label-arrow:before {color: black;}#sk-container-id-1 div.sk-toggleable__content {max-height: 0;max-width: 0;overflow: hidden;text-align: left;background-color: #f0f8ff;}#sk-container-id-1 div.sk-toggleable__content pre {margin: 0.2em;color: black;border-radius: 0.25em;background-color: #f0f8ff;}#sk-container-id-1 input.sk-toggleable__control:checked~div.sk-toggleable__content {max-height: 200px;max-width: 100%;overflow: auto;}#sk-container-id-1 input.sk-toggleable__control:checked~label.sk-toggleable__label-arrow:before {content: \"▾\";}#sk-container-id-1 div.sk-estimator input.sk-toggleable__control:checked~label.sk-toggleable__label {background-color: #d4ebff;}#sk-container-id-1 div.sk-label input.sk-toggleable__control:checked~label.sk-toggleable__label {background-color: #d4ebff;}#sk-container-id-1 input.sk-hidden--visually {border: 0;clip: rect(1px 1px 1px 1px);clip: rect(1px, 1px, 1px, 1px);height: 1px;margin: -1px;overflow: hidden;padding: 0;position: absolute;width: 1px;}#sk-container-id-1 div.sk-estimator {font-family: monospace;background-color: #f0f8ff;border: 1px dotted black;border-radius: 0.25em;box-sizing: border-box;margin-bottom: 0.5em;}#sk-container-id-1 div.sk-estimator:hover {background-color: #d4ebff;}#sk-container-id-1 div.sk-parallel-item::after {content: \"\";width: 100%;border-bottom: 1px solid gray;flex-grow: 1;}#sk-container-id-1 div.sk-label:hover label.sk-toggleable__label {background-color: #d4ebff;}#sk-container-id-1 div.sk-serial::before {content: \"\";position: absolute;border-left: 1px solid gray;box-sizing: border-box;top: 0;bottom: 0;left: 50%;z-index: 0;}#sk-container-id-1 div.sk-serial {display: flex;flex-direction: column;align-items: center;background-color: white;padding-right: 0.2em;padding-left: 0.2em;position: relative;}#sk-container-id-1 div.sk-item {position: relative;z-index: 1;}#sk-container-id-1 div.sk-parallel {display: flex;align-items: stretch;justify-content: center;background-color: white;position: relative;}#sk-container-id-1 div.sk-item::before, #sk-container-id-1 div.sk-parallel-item::before {content: \"\";position: absolute;border-left: 1px solid gray;box-sizing: border-box;top: 0;bottom: 0;left: 50%;z-index: -1;}#sk-container-id-1 div.sk-parallel-item {display: flex;flex-direction: column;z-index: 1;position: relative;background-color: white;}#sk-container-id-1 div.sk-parallel-item:first-child::after {align-self: flex-end;width: 50%;}#sk-container-id-1 div.sk-parallel-item:last-child::after {align-self: flex-start;width: 50%;}#sk-container-id-1 div.sk-parallel-item:only-child::after {width: 0;}#sk-container-id-1 div.sk-dashed-wrapped {border: 1px dashed gray;margin: 0 0.4em 0.5em 0.4em;box-sizing: border-box;padding-bottom: 0.4em;background-color: white;}#sk-container-id-1 div.sk-label label {font-family: monospace;font-weight: bold;display: inline-block;line-height: 1.2em;}#sk-container-id-1 div.sk-label-container {text-align: center;}#sk-container-id-1 div.sk-container {/* jupyter's `normalize.less` sets `[hidden] { display: none; }` but bootstrap.min.css set `[hidden] { display: none !important; }` so we also need the `!important` here to be able to override the default hidden behavior on the sphinx rendered scikit-learn.org. See: https://github.com/scikit-learn/scikit-learn/issues/21755 */display: inline-block !important;position: relative;}#sk-container-id-1 div.sk-text-repr-fallback {display: none;}</style><div id=\"sk-container-id-1\" class=\"sk-top-container\"><div class=\"sk-text-repr-fallback\"><pre>MultinomialNB()</pre><b>In a Jupyter environment, please rerun this cell to show the HTML representation or trust the notebook. <br />On GitHub, the HTML representation is unable to render, please try loading this page with nbviewer.org.</b></div><div class=\"sk-container\" hidden><div class=\"sk-item\"><div class=\"sk-estimator sk-toggleable\"><input class=\"sk-toggleable__control sk-hidden--visually\" id=\"sk-estimator-id-1\" type=\"checkbox\" checked><label for=\"sk-estimator-id-1\" class=\"sk-toggleable__label sk-toggleable__label-arrow\">MultinomialNB</label><div class=\"sk-toggleable__content\"><pre>MultinomialNB()</pre></div></div></div></div></div>"
      ],
      "text/plain": [
       "MultinomialNB()"
      ]
     },
     "execution_count": 10,
     "metadata": {},
     "output_type": "execute_result"
    }
   ],
   "source": [
    "one_hot_nb_model = MultinomialNB()\n",
    "one_hot_nb_model.fit(one_hot_X_train, one_hot_y_train)"
   ]
  },
  {
   "cell_type": "code",
   "execution_count": 11,
   "id": "361b9dc7",
   "metadata": {},
   "outputs": [],
   "source": [
    "one_hot_y_pred = one_hot_nb_model.predict(one_hot_X_test)"
   ]
  },
  {
   "cell_type": "code",
   "execution_count": 12,
   "id": "2d584937",
   "metadata": {},
   "outputs": [
    {
     "data": {
      "text/plain": [
       "0.858195211786372"
      ]
     },
     "execution_count": 12,
     "metadata": {},
     "output_type": "execute_result"
    }
   ],
   "source": [
    "accuracy_score(one_hot_y_test, one_hot_y_pred)"
   ]
  },
  {
   "cell_type": "code",
   "execution_count": 13,
   "id": "4dff3f08",
   "metadata": {},
   "outputs": [
    {
     "name": "stdout",
     "output_type": "stream",
     "text": [
      "Training accuracy 0.982656406202776\n",
      "Testing accuracy 0.858195211786372\n"
     ]
    }
   ],
   "source": [
    "print('Training accuracy', accuracy_score(one_hot_nb_model.predict(one_hot_X_train), one_hot_y_train))\n",
    "print('Testing accuracy', accuracy_score(one_hot_nb_model.predict(one_hot_X_test), one_hot_y_test))"
   ]
  },
  {
   "cell_type": "markdown",
   "id": "6481387c",
   "metadata": {},
   "source": [
    "<b>It is quite good accuracy.</b>\n",
    "\n",
    "<b>But clearly, we can see this model is overfitting the data.</b>\n",
    "\n",
    "<b>Let's try with another method TF-IDF</b>"
   ]
  },
  {
   "cell_type": "markdown",
   "id": "2913e676",
   "metadata": {},
   "source": [
    "# 4. TF-IDF"
   ]
  },
  {
   "cell_type": "code",
   "execution_count": 14,
   "id": "309f61f8",
   "metadata": {},
   "outputs": [],
   "source": [
    "tfidf_vectorizer = TfidfVectorizer()\n",
    "\n",
    "tfidf_vectorizer.fit(train_preprocessed_tweet)\n",
    "\n",
    "tfidf_X_train = tfidf_vectorizer.transform(train_preprocessed_tweet)\n",
    "tfidf_X_test = tfidf_vectorizer.transform(test_preprocessed_tweet)\n",
    "\n",
    "tfidf_y_train = one_hot_y_train\n",
    "tfidf_y_test = one_hot_y_test"
   ]
  },
  {
   "cell_type": "code",
   "execution_count": 15,
   "id": "c58ae0f5",
   "metadata": {},
   "outputs": [
    {
     "name": "stdout",
     "output_type": "stream",
     "text": [
      "(43013, 14521) (43013, 1)\n",
      "(543, 14521) (543, 1)\n"
     ]
    }
   ],
   "source": [
    "print(tfidf_X_train.shape, tfidf_y_train.shape)\n",
    "print(tfidf_X_test.shape, tfidf_y_test.shape)"
   ]
  },
  {
   "cell_type": "code",
   "execution_count": 16,
   "id": "190ae730",
   "metadata": {},
   "outputs": [
    {
     "name": "stderr",
     "output_type": "stream",
     "text": [
      "D:\\AnaConda\\lib\\site-packages\\sklearn\\utils\\validation.py:1184: DataConversionWarning: A column-vector y was passed when a 1d array was expected. Please change the shape of y to (n_samples, ), for example using ravel().\n",
      "  y = column_or_1d(y, warn=True)\n"
     ]
    },
    {
     "data": {
      "text/html": [
       "<style>#sk-container-id-2 {color: black;}#sk-container-id-2 pre{padding: 0;}#sk-container-id-2 div.sk-toggleable {background-color: white;}#sk-container-id-2 label.sk-toggleable__label {cursor: pointer;display: block;width: 100%;margin-bottom: 0;padding: 0.3em;box-sizing: border-box;text-align: center;}#sk-container-id-2 label.sk-toggleable__label-arrow:before {content: \"▸\";float: left;margin-right: 0.25em;color: #696969;}#sk-container-id-2 label.sk-toggleable__label-arrow:hover:before {color: black;}#sk-container-id-2 div.sk-estimator:hover label.sk-toggleable__label-arrow:before {color: black;}#sk-container-id-2 div.sk-toggleable__content {max-height: 0;max-width: 0;overflow: hidden;text-align: left;background-color: #f0f8ff;}#sk-container-id-2 div.sk-toggleable__content pre {margin: 0.2em;color: black;border-radius: 0.25em;background-color: #f0f8ff;}#sk-container-id-2 input.sk-toggleable__control:checked~div.sk-toggleable__content {max-height: 200px;max-width: 100%;overflow: auto;}#sk-container-id-2 input.sk-toggleable__control:checked~label.sk-toggleable__label-arrow:before {content: \"▾\";}#sk-container-id-2 div.sk-estimator input.sk-toggleable__control:checked~label.sk-toggleable__label {background-color: #d4ebff;}#sk-container-id-2 div.sk-label input.sk-toggleable__control:checked~label.sk-toggleable__label {background-color: #d4ebff;}#sk-container-id-2 input.sk-hidden--visually {border: 0;clip: rect(1px 1px 1px 1px);clip: rect(1px, 1px, 1px, 1px);height: 1px;margin: -1px;overflow: hidden;padding: 0;position: absolute;width: 1px;}#sk-container-id-2 div.sk-estimator {font-family: monospace;background-color: #f0f8ff;border: 1px dotted black;border-radius: 0.25em;box-sizing: border-box;margin-bottom: 0.5em;}#sk-container-id-2 div.sk-estimator:hover {background-color: #d4ebff;}#sk-container-id-2 div.sk-parallel-item::after {content: \"\";width: 100%;border-bottom: 1px solid gray;flex-grow: 1;}#sk-container-id-2 div.sk-label:hover label.sk-toggleable__label {background-color: #d4ebff;}#sk-container-id-2 div.sk-serial::before {content: \"\";position: absolute;border-left: 1px solid gray;box-sizing: border-box;top: 0;bottom: 0;left: 50%;z-index: 0;}#sk-container-id-2 div.sk-serial {display: flex;flex-direction: column;align-items: center;background-color: white;padding-right: 0.2em;padding-left: 0.2em;position: relative;}#sk-container-id-2 div.sk-item {position: relative;z-index: 1;}#sk-container-id-2 div.sk-parallel {display: flex;align-items: stretch;justify-content: center;background-color: white;position: relative;}#sk-container-id-2 div.sk-item::before, #sk-container-id-2 div.sk-parallel-item::before {content: \"\";position: absolute;border-left: 1px solid gray;box-sizing: border-box;top: 0;bottom: 0;left: 50%;z-index: -1;}#sk-container-id-2 div.sk-parallel-item {display: flex;flex-direction: column;z-index: 1;position: relative;background-color: white;}#sk-container-id-2 div.sk-parallel-item:first-child::after {align-self: flex-end;width: 50%;}#sk-container-id-2 div.sk-parallel-item:last-child::after {align-self: flex-start;width: 50%;}#sk-container-id-2 div.sk-parallel-item:only-child::after {width: 0;}#sk-container-id-2 div.sk-dashed-wrapped {border: 1px dashed gray;margin: 0 0.4em 0.5em 0.4em;box-sizing: border-box;padding-bottom: 0.4em;background-color: white;}#sk-container-id-2 div.sk-label label {font-family: monospace;font-weight: bold;display: inline-block;line-height: 1.2em;}#sk-container-id-2 div.sk-label-container {text-align: center;}#sk-container-id-2 div.sk-container {/* jupyter's `normalize.less` sets `[hidden] { display: none; }` but bootstrap.min.css set `[hidden] { display: none !important; }` so we also need the `!important` here to be able to override the default hidden behavior on the sphinx rendered scikit-learn.org. See: https://github.com/scikit-learn/scikit-learn/issues/21755 */display: inline-block !important;position: relative;}#sk-container-id-2 div.sk-text-repr-fallback {display: none;}</style><div id=\"sk-container-id-2\" class=\"sk-top-container\"><div class=\"sk-text-repr-fallback\"><pre>MultinomialNB()</pre><b>In a Jupyter environment, please rerun this cell to show the HTML representation or trust the notebook. <br />On GitHub, the HTML representation is unable to render, please try loading this page with nbviewer.org.</b></div><div class=\"sk-container\" hidden><div class=\"sk-item\"><div class=\"sk-estimator sk-toggleable\"><input class=\"sk-toggleable__control sk-hidden--visually\" id=\"sk-estimator-id-2\" type=\"checkbox\" checked><label for=\"sk-estimator-id-2\" class=\"sk-toggleable__label sk-toggleable__label-arrow\">MultinomialNB</label><div class=\"sk-toggleable__content\"><pre>MultinomialNB()</pre></div></div></div></div></div>"
      ],
      "text/plain": [
       "MultinomialNB()"
      ]
     },
     "execution_count": 16,
     "metadata": {},
     "output_type": "execute_result"
    }
   ],
   "source": [
    "tfidf_nb_model = MultinomialNB()\n",
    "tfidf_nb_model.fit(tfidf_X_train, tfidf_y_train)"
   ]
  },
  {
   "cell_type": "code",
   "execution_count": 17,
   "id": "5023b736",
   "metadata": {},
   "outputs": [],
   "source": [
    "tfidf_y_pred = tfidf_nb_model.predict(tfidf_X_test)"
   ]
  },
  {
   "cell_type": "code",
   "execution_count": 18,
   "id": "ad797a94",
   "metadata": {},
   "outputs": [
    {
     "data": {
      "text/plain": [
       "0.9208103130755064"
      ]
     },
     "execution_count": 18,
     "metadata": {},
     "output_type": "execute_result"
    }
   ],
   "source": [
    "accuracy_score(tfidf_y_test, tfidf_y_pred)"
   ]
  },
  {
   "cell_type": "code",
   "execution_count": 19,
   "id": "12d84d14",
   "metadata": {},
   "outputs": [
    {
     "name": "stdout",
     "output_type": "stream",
     "text": [
      "Training accuracy 0.8934973147653035\n",
      "Testing accuracy 0.9208103130755064\n"
     ]
    }
   ],
   "source": [
    "print('Training accuracy', accuracy_score(tfidf_nb_model.predict(tfidf_X_train), tfidf_y_train))\n",
    "print('Testing accuracy', accuracy_score(tfidf_nb_model.predict(tfidf_X_test), tfidf_y_test))"
   ]
  },
  {
   "cell_type": "markdown",
   "id": "4a4cd86c",
   "metadata": {},
   "source": [
    "<b>It give very good accuracy than previous one, on both data training as well as testing.</b>\n",
    "\n",
    "<b>It means it perform great on unseen data.</b>\n",
    "\n",
    "<b>Let's try with last but not least method CountVecotrizer. Which is similar to the one-hot encoding, but it use bag_of word technique. As it store a number of words appear in sentence, instead of 1 (which indiate word is present or not in senetece, else 0 if not.) </b>"
   ]
  },
  {
   "cell_type": "markdown",
   "id": "0f1b9c9b",
   "metadata": {},
   "source": [
    "# Count Vectorizer"
   ]
  },
  {
   "cell_type": "code",
   "execution_count": 20,
   "id": "c70e9153",
   "metadata": {},
   "outputs": [],
   "source": [
    "count_vectorizer = CountVectorizer()\n",
    "\n",
    "count_vectorizer.fit(train_preprocessed_tweet)\n",
    "\n",
    "cv_X_train = count_vectorizer.transform(train_preprocessed_tweet)\n",
    "cv_X_test = count_vectorizer.transform(test_preprocessed_tweet)\n",
    "\n",
    "cv_y_train = tfidf_y_train\n",
    "cv_y_test = tfidf_y_test"
   ]
  },
  {
   "cell_type": "code",
   "execution_count": 21,
   "id": "3ed2fc6c",
   "metadata": {},
   "outputs": [
    {
     "name": "stdout",
     "output_type": "stream",
     "text": [
      "(43013, 14521) (43013, 1)\n",
      "(543, 14521) (543, 1)\n"
     ]
    }
   ],
   "source": [
    "print(cv_X_train.shape, cv_y_train.shape)\n",
    "print(cv_X_test.shape, cv_y_test.shape)"
   ]
  },
  {
   "cell_type": "code",
   "execution_count": 22,
   "id": "2f3476af",
   "metadata": {},
   "outputs": [
    {
     "name": "stderr",
     "output_type": "stream",
     "text": [
      "D:\\AnaConda\\lib\\site-packages\\sklearn\\utils\\validation.py:1184: DataConversionWarning: A column-vector y was passed when a 1d array was expected. Please change the shape of y to (n_samples, ), for example using ravel().\n",
      "  y = column_or_1d(y, warn=True)\n"
     ]
    },
    {
     "data": {
      "text/html": [
       "<style>#sk-container-id-3 {color: black;}#sk-container-id-3 pre{padding: 0;}#sk-container-id-3 div.sk-toggleable {background-color: white;}#sk-container-id-3 label.sk-toggleable__label {cursor: pointer;display: block;width: 100%;margin-bottom: 0;padding: 0.3em;box-sizing: border-box;text-align: center;}#sk-container-id-3 label.sk-toggleable__label-arrow:before {content: \"▸\";float: left;margin-right: 0.25em;color: #696969;}#sk-container-id-3 label.sk-toggleable__label-arrow:hover:before {color: black;}#sk-container-id-3 div.sk-estimator:hover label.sk-toggleable__label-arrow:before {color: black;}#sk-container-id-3 div.sk-toggleable__content {max-height: 0;max-width: 0;overflow: hidden;text-align: left;background-color: #f0f8ff;}#sk-container-id-3 div.sk-toggleable__content pre {margin: 0.2em;color: black;border-radius: 0.25em;background-color: #f0f8ff;}#sk-container-id-3 input.sk-toggleable__control:checked~div.sk-toggleable__content {max-height: 200px;max-width: 100%;overflow: auto;}#sk-container-id-3 input.sk-toggleable__control:checked~label.sk-toggleable__label-arrow:before {content: \"▾\";}#sk-container-id-3 div.sk-estimator input.sk-toggleable__control:checked~label.sk-toggleable__label {background-color: #d4ebff;}#sk-container-id-3 div.sk-label input.sk-toggleable__control:checked~label.sk-toggleable__label {background-color: #d4ebff;}#sk-container-id-3 input.sk-hidden--visually {border: 0;clip: rect(1px 1px 1px 1px);clip: rect(1px, 1px, 1px, 1px);height: 1px;margin: -1px;overflow: hidden;padding: 0;position: absolute;width: 1px;}#sk-container-id-3 div.sk-estimator {font-family: monospace;background-color: #f0f8ff;border: 1px dotted black;border-radius: 0.25em;box-sizing: border-box;margin-bottom: 0.5em;}#sk-container-id-3 div.sk-estimator:hover {background-color: #d4ebff;}#sk-container-id-3 div.sk-parallel-item::after {content: \"\";width: 100%;border-bottom: 1px solid gray;flex-grow: 1;}#sk-container-id-3 div.sk-label:hover label.sk-toggleable__label {background-color: #d4ebff;}#sk-container-id-3 div.sk-serial::before {content: \"\";position: absolute;border-left: 1px solid gray;box-sizing: border-box;top: 0;bottom: 0;left: 50%;z-index: 0;}#sk-container-id-3 div.sk-serial {display: flex;flex-direction: column;align-items: center;background-color: white;padding-right: 0.2em;padding-left: 0.2em;position: relative;}#sk-container-id-3 div.sk-item {position: relative;z-index: 1;}#sk-container-id-3 div.sk-parallel {display: flex;align-items: stretch;justify-content: center;background-color: white;position: relative;}#sk-container-id-3 div.sk-item::before, #sk-container-id-3 div.sk-parallel-item::before {content: \"\";position: absolute;border-left: 1px solid gray;box-sizing: border-box;top: 0;bottom: 0;left: 50%;z-index: -1;}#sk-container-id-3 div.sk-parallel-item {display: flex;flex-direction: column;z-index: 1;position: relative;background-color: white;}#sk-container-id-3 div.sk-parallel-item:first-child::after {align-self: flex-end;width: 50%;}#sk-container-id-3 div.sk-parallel-item:last-child::after {align-self: flex-start;width: 50%;}#sk-container-id-3 div.sk-parallel-item:only-child::after {width: 0;}#sk-container-id-3 div.sk-dashed-wrapped {border: 1px dashed gray;margin: 0 0.4em 0.5em 0.4em;box-sizing: border-box;padding-bottom: 0.4em;background-color: white;}#sk-container-id-3 div.sk-label label {font-family: monospace;font-weight: bold;display: inline-block;line-height: 1.2em;}#sk-container-id-3 div.sk-label-container {text-align: center;}#sk-container-id-3 div.sk-container {/* jupyter's `normalize.less` sets `[hidden] { display: none; }` but bootstrap.min.css set `[hidden] { display: none !important; }` so we also need the `!important` here to be able to override the default hidden behavior on the sphinx rendered scikit-learn.org. See: https://github.com/scikit-learn/scikit-learn/issues/21755 */display: inline-block !important;position: relative;}#sk-container-id-3 div.sk-text-repr-fallback {display: none;}</style><div id=\"sk-container-id-3\" class=\"sk-top-container\"><div class=\"sk-text-repr-fallback\"><pre>MultinomialNB()</pre><b>In a Jupyter environment, please rerun this cell to show the HTML representation or trust the notebook. <br />On GitHub, the HTML representation is unable to render, please try loading this page with nbviewer.org.</b></div><div class=\"sk-container\" hidden><div class=\"sk-item\"><div class=\"sk-estimator sk-toggleable\"><input class=\"sk-toggleable__control sk-hidden--visually\" id=\"sk-estimator-id-3\" type=\"checkbox\" checked><label for=\"sk-estimator-id-3\" class=\"sk-toggleable__label sk-toggleable__label-arrow\">MultinomialNB</label><div class=\"sk-toggleable__content\"><pre>MultinomialNB()</pre></div></div></div></div></div>"
      ],
      "text/plain": [
       "MultinomialNB()"
      ]
     },
     "execution_count": 22,
     "metadata": {},
     "output_type": "execute_result"
    }
   ],
   "source": [
    "cv_nb_model = MultinomialNB()\n",
    "cv_nb_model.fit(cv_X_train, cv_y_train)"
   ]
  },
  {
   "cell_type": "code",
   "execution_count": 23,
   "id": "97592c20",
   "metadata": {},
   "outputs": [],
   "source": [
    "cv_y_pred = cv_nb_model.predict(cv_X_test)"
   ]
  },
  {
   "cell_type": "code",
   "execution_count": 24,
   "id": "3a34c3c7",
   "metadata": {},
   "outputs": [
    {
     "data": {
      "text/plain": [
       "0.9005524861878453"
      ]
     },
     "execution_count": 24,
     "metadata": {},
     "output_type": "execute_result"
    }
   ],
   "source": [
    "accuracy_score(cv_y_test, cv_y_pred)"
   ]
  },
  {
   "cell_type": "code",
   "execution_count": 25,
   "id": "a8c9ed8e",
   "metadata": {},
   "outputs": [
    {
     "name": "stdout",
     "output_type": "stream",
     "text": [
      "Training accuracy 0.8846395275846837\n",
      "Testing accuracy 0.9005524861878453\n"
     ]
    }
   ],
   "source": [
    "print('Training accuracy', accuracy_score(cv_nb_model.predict(cv_X_train), cv_y_train))\n",
    "print('Testing accuracy', accuracy_score(cv_nb_model.predict(cv_X_test), cv_y_test))"
   ]
  },
  {
   "cell_type": "markdown",
   "id": "ff5fc193",
   "metadata": {},
   "source": [
    "<b>This one also give better accuracy then One-Hot encoding but less then Tf-IDF.</b>"
   ]
  },
  {
   "cell_type": "markdown",
   "id": "078f9626",
   "metadata": {},
   "source": [
    "# Save model\n",
    "\n",
    "<b>Save best model.</b>"
   ]
  },
  {
   "cell_type": "code",
   "execution_count": 26,
   "id": "4417dae4",
   "metadata": {},
   "outputs": [],
   "source": [
    "pickle.dump(tfidf_nb_model, open('best_nb_model.mdl', 'wb'))"
   ]
  },
  {
   "cell_type": "code",
   "execution_count": 27,
   "id": "34e66481",
   "metadata": {},
   "outputs": [],
   "source": [
    "model = pickle.load(open('best_nb_model.mdl', 'rb'))"
   ]
  },
  {
   "cell_type": "code",
   "execution_count": null,
   "id": "19e4f1a4",
   "metadata": {},
   "outputs": [],
   "source": []
  }
 ],
 "metadata": {
  "kernelspec": {
   "display_name": "Python 3 (ipykernel)",
   "language": "python",
   "name": "python3"
  },
  "language_info": {
   "codemirror_mode": {
    "name": "ipython",
    "version": 3
   },
   "file_extension": ".py",
   "mimetype": "text/x-python",
   "name": "python",
   "nbconvert_exporter": "python",
   "pygments_lexer": "ipython3",
   "version": "3.10.13"
  }
 },
 "nbformat": 4,
 "nbformat_minor": 5
}
